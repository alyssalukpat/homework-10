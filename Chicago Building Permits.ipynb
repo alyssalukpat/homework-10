{
 "cells": [
  {
   "cell_type": "markdown",
   "metadata": {},
   "source": [
    "## Logging on\n",
    "\n",
    "Use Selenium to visit https://webapps1.chicago.gov/buildingrecords/ and accept the agreement.\n",
    "\n",
    "> Think about when you use `.find_element_...` and when you use `.find_elementSSS_...`"
   ]
  },
  {
   "cell_type": "code",
   "execution_count": 1,
   "metadata": {},
   "outputs": [
    {
     "name": "stderr",
     "output_type": "stream",
     "text": [
      "/Users/ALukpat/.pyenv/versions/3.7.1/lib/python3.7/site-packages/pandas/compat/__init__.py:120: UserWarning: Could not import the lzma module. Your installed Python is incomplete. Attempting to use lzma compression will result in a RuntimeError.\n",
      "  warnings.warn(msg)\n"
     ]
    }
   ],
   "source": [
    "import requests\n",
    "from selenium import webdriver\n",
    "driver = webdriver.Chrome()\n",
    "import pandas as pd"
   ]
  },
  {
   "cell_type": "code",
   "execution_count": 2,
   "metadata": {},
   "outputs": [],
   "source": [
    "driver.get(\"https://webapps1.chicago.gov/buildingrecords/\")"
   ]
  },
  {
   "cell_type": "code",
   "execution_count": 3,
   "metadata": {},
   "outputs": [],
   "source": [
    "# first, select cosmetologist from \"license program type\" dropdown menu\n",
    "button = driver.find_element_by_xpath(\"/html/body/div/div[4]/form/div[1]/div[1]/input\")\n",
    "button.click()\n",
    "\n",
    "# finally, submit\n",
    "submit_button = driver.find_element_by_xpath(\"/html/body/div/div[4]/form/div[4]/div/button\")\n",
    "submit_button.click()"
   ]
  },
  {
   "cell_type": "markdown",
   "metadata": {},
   "source": [
    "## Searching\n",
    "\n",
    "Search for **400 E 41ST ST**."
   ]
  },
  {
   "cell_type": "code",
   "execution_count": 4,
   "metadata": {},
   "outputs": [],
   "source": [
    "address_search = driver.find_element_by_xpath('/html/body/div/div[4]/form/div[1]/div/input')\n",
    "address_search.send_keys(\"400 E 41ST ST\")\n",
    "\n",
    "submit_button2 = driver.find_element_by_xpath(\"/html/body/div/div[4]/form/div[2]/div/button\")\n",
    "submit_button2.click()"
   ]
  },
  {
   "cell_type": "markdown",
   "metadata": {},
   "source": [
    "## Saving tables with pandas\n",
    "\n",
    "Use pandas to save a CSV of all **permits** to `Permits - 400 E 41ST ST.csv`. Note that there are **different sections of the page**, not just one long permits table."
   ]
  },
  {
   "cell_type": "code",
   "execution_count": 17,
   "metadata": {},
   "outputs": [
    {
     "name": "stdout",
     "output_type": "stream",
     "text": [
      "Requirement already satisfied: html5lib in /Users/ALukpat/.pyenv/versions/3.7.1/lib/python3.7/site-packages (1.1)\n",
      "Requirement already satisfied: six>=1.9 in /Users/ALukpat/.pyenv/versions/3.7.1/lib/python3.7/site-packages (from html5lib) (1.15.0)\n",
      "Requirement already satisfied: webencodings in /Users/ALukpat/.pyenv/versions/3.7.1/lib/python3.7/site-packages (from html5lib) (0.5.1)\n",
      "\u001b[33mYou are using pip version 10.0.1, however version 20.3 is available.\n",
      "You should consider upgrading via the 'pip install --upgrade pip' command.\u001b[0m\n"
     ]
    }
   ],
   "source": [
    "!pip install html5lib"
   ]
  },
  {
   "cell_type": "code",
   "execution_count": 19,
   "metadata": {},
   "outputs": [],
   "source": [
    "data5 = pd.read_html(driver.page_source)"
   ]
  },
  {
   "cell_type": "code",
   "execution_count": 34,
   "metadata": {},
   "outputs": [
    {
     "data": {
      "text/plain": [
       "list"
      ]
     },
     "execution_count": 34,
     "metadata": {},
     "output_type": "execute_result"
    }
   ],
   "source": [
    "type(data5)"
   ]
  },
  {
   "cell_type": "code",
   "execution_count": 30,
   "metadata": {},
   "outputs": [
    {
     "data": {
      "text/html": [
       "<div>\n",
       "<style scoped>\n",
       "    .dataframe tbody tr th:only-of-type {\n",
       "        vertical-align: middle;\n",
       "    }\n",
       "\n",
       "    .dataframe tbody tr th {\n",
       "        vertical-align: top;\n",
       "    }\n",
       "\n",
       "    .dataframe thead th {\n",
       "        text-align: right;\n",
       "    }\n",
       "</style>\n",
       "<table border=\"1\" class=\"dataframe\">\n",
       "  <thead>\n",
       "    <tr style=\"text-align: right;\">\n",
       "      <th></th>\n",
       "      <th>PERMIT #</th>\n",
       "      <th>DATE ISSUED</th>\n",
       "      <th>DESCRIPTION OF WORK</th>\n",
       "    </tr>\n",
       "  </thead>\n",
       "  <tbody>\n",
       "    <tr>\n",
       "      <th>0</th>\n",
       "      <td>100845718</td>\n",
       "      <td>NaN</td>\n",
       "      <td>ERECT TWO SCAFFOLDS FROM 10/14/2019 TO 10/14/2...</td>\n",
       "    </tr>\n",
       "    <tr>\n",
       "      <th>1</th>\n",
       "      <td>100778302</td>\n",
       "      <td>NaN</td>\n",
       "      <td>PERMIT EXPIRES ON 10/17/2018 Erection Starts: ...</td>\n",
       "    </tr>\n",
       "    <tr>\n",
       "      <th>2</th>\n",
       "      <td>100721255</td>\n",
       "      <td>NaN</td>\n",
       "      <td>PERMIT EXPIRES ON 10/24/2017 ERECTION STARTS: ...</td>\n",
       "    </tr>\n",
       "    <tr>\n",
       "      <th>3</th>\n",
       "      <td>100693399</td>\n",
       "      <td>NaN</td>\n",
       "      <td>INSTALLATION OF LOW VOLTAGE BURGLAR ALARM INTE...</td>\n",
       "    </tr>\n",
       "    <tr>\n",
       "      <th>4</th>\n",
       "      <td>100665436</td>\n",
       "      <td>NaN</td>\n",
       "      <td>PERMIT EXPIRES ON 10/24/2016 ERECTION STARTS: ...</td>\n",
       "    </tr>\n",
       "  </tbody>\n",
       "</table>\n",
       "</div>"
      ],
      "text/plain": [
       "    PERMIT #  DATE ISSUED                                DESCRIPTION OF WORK\n",
       "0  100845718          NaN  ERECT TWO SCAFFOLDS FROM 10/14/2019 TO 10/14/2...\n",
       "1  100778302          NaN  PERMIT EXPIRES ON 10/17/2018 Erection Starts: ...\n",
       "2  100721255          NaN  PERMIT EXPIRES ON 10/24/2017 ERECTION STARTS: ...\n",
       "3  100693399          NaN  INSTALLATION OF LOW VOLTAGE BURGLAR ALARM INTE...\n",
       "4  100665436          NaN  PERMIT EXPIRES ON 10/24/2016 ERECTION STARTS: ..."
      ]
     },
     "execution_count": 30,
     "metadata": {},
     "output_type": "execute_result"
    }
   ],
   "source": [
    "df5 = data5[0]\n",
    "df5.head()"
   ]
  },
  {
   "cell_type": "code",
   "execution_count": 32,
   "metadata": {},
   "outputs": [
    {
     "data": {
      "text/html": [
       "<div>\n",
       "<style scoped>\n",
       "    .dataframe tbody tr th:only-of-type {\n",
       "        vertical-align: middle;\n",
       "    }\n",
       "\n",
       "    .dataframe tbody tr th {\n",
       "        vertical-align: top;\n",
       "    }\n",
       "\n",
       "    .dataframe thead th {\n",
       "        text-align: right;\n",
       "    }\n",
       "</style>\n",
       "<table border=\"1\" class=\"dataframe\">\n",
       "  <thead>\n",
       "    <tr style=\"text-align: right;\">\n",
       "      <th></th>\n",
       "      <th>PERMIT #</th>\n",
       "      <th>DATE ISSUED</th>\n",
       "      <th>DESCRIPTION OF WORK</th>\n",
       "    </tr>\n",
       "  </thead>\n",
       "  <tbody>\n",
       "    <tr>\n",
       "      <th>0</th>\n",
       "      <td>100845718</td>\n",
       "      <td>NaN</td>\n",
       "      <td>ERECT TWO SCAFFOLDS FROM 10/14/2019 TO 10/14/2...</td>\n",
       "    </tr>\n",
       "    <tr>\n",
       "      <th>1</th>\n",
       "      <td>100778302</td>\n",
       "      <td>NaN</td>\n",
       "      <td>PERMIT EXPIRES ON 10/17/2018 Erection Starts: ...</td>\n",
       "    </tr>\n",
       "    <tr>\n",
       "      <th>2</th>\n",
       "      <td>100721255</td>\n",
       "      <td>NaN</td>\n",
       "      <td>PERMIT EXPIRES ON 10/24/2017 ERECTION STARTS: ...</td>\n",
       "    </tr>\n",
       "    <tr>\n",
       "      <th>3</th>\n",
       "      <td>100693399</td>\n",
       "      <td>NaN</td>\n",
       "      <td>INSTALLATION OF LOW VOLTAGE BURGLAR ALARM INTE...</td>\n",
       "    </tr>\n",
       "    <tr>\n",
       "      <th>4</th>\n",
       "      <td>100665436</td>\n",
       "      <td>NaN</td>\n",
       "      <td>PERMIT EXPIRES ON 10/24/2016 ERECTION STARTS: ...</td>\n",
       "    </tr>\n",
       "  </tbody>\n",
       "</table>\n",
       "</div>"
      ],
      "text/plain": [
       "    PERMIT #  DATE ISSUED                                DESCRIPTION OF WORK\n",
       "0  100845718          NaN  ERECT TWO SCAFFOLDS FROM 10/14/2019 TO 10/14/2...\n",
       "1  100778302          NaN  PERMIT EXPIRES ON 10/17/2018 Erection Starts: ...\n",
       "2  100721255          NaN  PERMIT EXPIRES ON 10/24/2017 ERECTION STARTS: ...\n",
       "3  100693399          NaN  INSTALLATION OF LOW VOLTAGE BURGLAR ALARM INTE...\n",
       "4  100665436          NaN  PERMIT EXPIRES ON 10/24/2016 ERECTION STARTS: ..."
      ]
     },
     "execution_count": 32,
     "metadata": {},
     "output_type": "execute_result"
    }
   ],
   "source": [
    "df5.to_csv('Permits - 400 E 41ST ST.csv', index=False)\n",
    "df6 = pd.read_csv(\"Permits - 400 E 41ST ST.csv\")\n",
    "df6.head()"
   ]
  },
  {
   "cell_type": "markdown",
   "metadata": {},
   "source": [
    "## Saving tables the long way\n",
    "\n",
    "Save a CSV of all DOB inspections to `Inspections - 400 E 41ST ST.csv`, but **you also need to save the URL to the inspection**. As a result, you won't be able to use pandas, you'll need to use a loop and create a list of dictionaries.\n",
    "\n",
    "You can use Selenium (my recommendation) or you can feed the source to BeautifulSoup. You should have approximately 157 rows.\n",
    "\n",
    "You'll probably need to find the table first, then the rows inside, then the cells inside of each row. You'll probably use lots of list indexing. I might recommend XPath for finding the table.\n",
    "\n",
    "*Tip: If you get a \"list index out of range\" error, it's probably due to an issue involving `thead` vs `tbody` elements. What are they? What are they for? What's in them? There are a few ways to troubleshoot it.*"
   ]
  },
  {
   "cell_type": "code",
   "execution_count": 12,
   "metadata": {},
   "outputs": [],
   "source": [
    "inspections_table = driver.find_element_by_id('resultstable_inspections')\n",
    "inspections_table2 = inspections_table.find_elements_by_tag_name('tr')"
   ]
  },
  {
   "cell_type": "code",
   "execution_count": 13,
   "metadata": {},
   "outputs": [],
   "source": [
    "inspections_list = []\n",
    "\n",
    "for item in inspections_table2[1:]:\n",
    "    number = item.find_elements_by_tag_name('td')[0].text.strip()\n",
    "    url = item.find_element_by_tag_name('a').get_attribute('href')\n",
    "    #url = item.find_element_by_xpath(f'/html/body/div/div[4]/div[10]/table/tbody/tr[{count}]/td[1]/a').text.strip()\n",
    "    date = item.find_elements_by_tag_name('td')[1].text.strip()\n",
    "    status = item.find_elements_by_tag_name('td')[2].text.strip()\n",
    "    description = item.find_elements_by_tag_name('td')[3].text.strip()\n",
    "    \n",
    "    inspections_list.append({\n",
    "        'Inspection_number': number,\n",
    "        'URL': url,\n",
    "        'Inspection_date': date,\n",
    "        'Status': status,\n",
    "        'Type_description': description\n",
    "    })"
   ]
  },
  {
   "cell_type": "code",
   "execution_count": 14,
   "metadata": {},
   "outputs": [
    {
     "data": {
      "text/html": [
       "<div>\n",
       "<style scoped>\n",
       "    .dataframe tbody tr th:only-of-type {\n",
       "        vertical-align: middle;\n",
       "    }\n",
       "\n",
       "    .dataframe tbody tr th {\n",
       "        vertical-align: top;\n",
       "    }\n",
       "\n",
       "    .dataframe thead th {\n",
       "        text-align: right;\n",
       "    }\n",
       "</style>\n",
       "<table border=\"1\" class=\"dataframe\">\n",
       "  <thead>\n",
       "    <tr style=\"text-align: right;\">\n",
       "      <th></th>\n",
       "      <th>Inspection_number</th>\n",
       "      <th>URL</th>\n",
       "      <th>Inspection_date</th>\n",
       "      <th>Status</th>\n",
       "      <th>Type_description</th>\n",
       "    </tr>\n",
       "  </thead>\n",
       "  <tbody>\n",
       "    <tr>\n",
       "      <th>0</th>\n",
       "      <td>13175960</td>\n",
       "      <td>https://webapps1.chicago.gov/buildingrecords/i...</td>\n",
       "      <td>11/30/2020</td>\n",
       "      <td>FAILED</td>\n",
       "      <td>ANNUAL INSPECTION</td>\n",
       "    </tr>\n",
       "    <tr>\n",
       "      <th>1</th>\n",
       "      <td>12770690</td>\n",
       "      <td>https://webapps1.chicago.gov/buildingrecords/i...</td>\n",
       "      <td>05/30/2019</td>\n",
       "      <td>PASSED</td>\n",
       "      <td>BOILER ANNUAL INSPECTION</td>\n",
       "    </tr>\n",
       "    <tr>\n",
       "      <th>2</th>\n",
       "      <td>12670542</td>\n",
       "      <td>https://webapps1.chicago.gov/buildingrecords/i...</td>\n",
       "      <td>05/21/2019</td>\n",
       "      <td>FAILED</td>\n",
       "      <td>CONSERVATION ANNUAL</td>\n",
       "    </tr>\n",
       "    <tr>\n",
       "      <th>3</th>\n",
       "      <td>12277260</td>\n",
       "      <td>https://webapps1.chicago.gov/buildingrecords/i...</td>\n",
       "      <td>08/27/2018</td>\n",
       "      <td>FAILED</td>\n",
       "      <td>CONSERVATION ANNUAL</td>\n",
       "    </tr>\n",
       "    <tr>\n",
       "      <th>4</th>\n",
       "      <td>12418304</td>\n",
       "      <td>https://webapps1.chicago.gov/buildingrecords/i...</td>\n",
       "      <td>05/30/2018</td>\n",
       "      <td>PASSED</td>\n",
       "      <td>BOILER ANNUAL INSPECTION</td>\n",
       "    </tr>\n",
       "  </tbody>\n",
       "</table>\n",
       "</div>"
      ],
      "text/plain": [
       "  Inspection_number                                                URL  \\\n",
       "0          13175960  https://webapps1.chicago.gov/buildingrecords/i...   \n",
       "1          12770690  https://webapps1.chicago.gov/buildingrecords/i...   \n",
       "2          12670542  https://webapps1.chicago.gov/buildingrecords/i...   \n",
       "3          12277260  https://webapps1.chicago.gov/buildingrecords/i...   \n",
       "4          12418304  https://webapps1.chicago.gov/buildingrecords/i...   \n",
       "\n",
       "  Inspection_date  Status          Type_description  \n",
       "0      11/30/2020  FAILED         ANNUAL INSPECTION  \n",
       "1      05/30/2019  PASSED  BOILER ANNUAL INSPECTION  \n",
       "2      05/21/2019  FAILED       CONSERVATION ANNUAL  \n",
       "3      08/27/2018  FAILED       CONSERVATION ANNUAL  \n",
       "4      05/30/2018  PASSED  BOILER ANNUAL INSPECTION  "
      ]
     },
     "execution_count": 14,
     "metadata": {},
     "output_type": "execute_result"
    }
   ],
   "source": [
    "df3 = pd.DataFrame(inspections_list)\n",
    "df3.head()"
   ]
  },
  {
   "cell_type": "code",
   "execution_count": 15,
   "metadata": {},
   "outputs": [
    {
     "data": {
      "text/html": [
       "<div>\n",
       "<style scoped>\n",
       "    .dataframe tbody tr th:only-of-type {\n",
       "        vertical-align: middle;\n",
       "    }\n",
       "\n",
       "    .dataframe tbody tr th {\n",
       "        vertical-align: top;\n",
       "    }\n",
       "\n",
       "    .dataframe thead th {\n",
       "        text-align: right;\n",
       "    }\n",
       "</style>\n",
       "<table border=\"1\" class=\"dataframe\">\n",
       "  <thead>\n",
       "    <tr style=\"text-align: right;\">\n",
       "      <th></th>\n",
       "      <th>Inspection_number</th>\n",
       "      <th>URL</th>\n",
       "      <th>Inspection_date</th>\n",
       "      <th>Status</th>\n",
       "      <th>Type_description</th>\n",
       "    </tr>\n",
       "  </thead>\n",
       "  <tbody>\n",
       "    <tr>\n",
       "      <th>0</th>\n",
       "      <td>13175960</td>\n",
       "      <td>https://webapps1.chicago.gov/buildingrecords/i...</td>\n",
       "      <td>11/30/2020</td>\n",
       "      <td>FAILED</td>\n",
       "      <td>ANNUAL INSPECTION</td>\n",
       "    </tr>\n",
       "    <tr>\n",
       "      <th>1</th>\n",
       "      <td>12770690</td>\n",
       "      <td>https://webapps1.chicago.gov/buildingrecords/i...</td>\n",
       "      <td>05/30/2019</td>\n",
       "      <td>PASSED</td>\n",
       "      <td>BOILER ANNUAL INSPECTION</td>\n",
       "    </tr>\n",
       "    <tr>\n",
       "      <th>2</th>\n",
       "      <td>12670542</td>\n",
       "      <td>https://webapps1.chicago.gov/buildingrecords/i...</td>\n",
       "      <td>05/21/2019</td>\n",
       "      <td>FAILED</td>\n",
       "      <td>CONSERVATION ANNUAL</td>\n",
       "    </tr>\n",
       "    <tr>\n",
       "      <th>3</th>\n",
       "      <td>12277260</td>\n",
       "      <td>https://webapps1.chicago.gov/buildingrecords/i...</td>\n",
       "      <td>08/27/2018</td>\n",
       "      <td>FAILED</td>\n",
       "      <td>CONSERVATION ANNUAL</td>\n",
       "    </tr>\n",
       "    <tr>\n",
       "      <th>4</th>\n",
       "      <td>12418304</td>\n",
       "      <td>https://webapps1.chicago.gov/buildingrecords/i...</td>\n",
       "      <td>05/30/2018</td>\n",
       "      <td>PASSED</td>\n",
       "      <td>BOILER ANNUAL INSPECTION</td>\n",
       "    </tr>\n",
       "  </tbody>\n",
       "</table>\n",
       "</div>"
      ],
      "text/plain": [
       "   Inspection_number                                                URL  \\\n",
       "0           13175960  https://webapps1.chicago.gov/buildingrecords/i...   \n",
       "1           12770690  https://webapps1.chicago.gov/buildingrecords/i...   \n",
       "2           12670542  https://webapps1.chicago.gov/buildingrecords/i...   \n",
       "3           12277260  https://webapps1.chicago.gov/buildingrecords/i...   \n",
       "4           12418304  https://webapps1.chicago.gov/buildingrecords/i...   \n",
       "\n",
       "  Inspection_date  Status          Type_description  \n",
       "0      11/30/2020  FAILED         ANNUAL INSPECTION  \n",
       "1      05/30/2019  PASSED  BOILER ANNUAL INSPECTION  \n",
       "2      05/21/2019  FAILED       CONSERVATION ANNUAL  \n",
       "3      08/27/2018  FAILED       CONSERVATION ANNUAL  \n",
       "4      05/30/2018  PASSED  BOILER ANNUAL INSPECTION  "
      ]
     },
     "execution_count": 15,
     "metadata": {},
     "output_type": "execute_result"
    }
   ],
   "source": [
    "df3.to_csv('Inspections - 400 E 41ST ST.csv', index=False)\n",
    "df4 = pd.read_csv(\"Inspections - 400 E 41ST ST.csv\")\n",
    "df4.head()"
   ]
  },
  {
   "cell_type": "markdown",
   "metadata": {},
   "source": [
    "### Loopity loops\n",
    "\n",
    "> If you used Selenium for the last question, copy the code and use it as a starting point for what we're about to do!\n",
    "\n",
    "If you click the inspection number, it'll open up a new window that shows you details of the violations from that visit. Count the number of violations for each visit and save it in a new column called **num_violations**.\n",
    "\n",
    "Save this file as `Inspections - 400 E 41ST ST - with counts.csv`.\n",
    "\n",
    "Since it opens in a new window, we have to say \"Hey Selenium, pay attention to that new window!\" We do that with `driver.switch_to.window(driver.window_handles[-1])` (each window gets a `window_handle`, and we're just asking the driver to switch to the last one.). A rough sketch of what your code will look like is here:\n",
    "\n",
    "```python\n",
    "# Click the link that opens the new window\n",
    "\n",
    "# Switch to the new window/tab\n",
    "driver.switch_to.window(driver.window_handles[-1])\n",
    "\n",
    "# Do your scraping in here\n",
    "\n",
    "# Close the new window/tab\n",
    "driver.close()\n",
    "\n",
    "# Switch back to the original window/tab\n",
    "driver.switch_to.window(driver.window_handles[0])\n",
    "```\n",
    "\n",
    "You'll want to play around with them individually before you try it with the whole set - the ones that pass are very different pages than the ones with violations! There are a few ways to get the number of violations, some easier than others."
   ]
  },
  {
   "cell_type": "markdown",
   "metadata": {},
   "source": [
    "#### Getting individual violation count:"
   ]
  },
  {
   "cell_type": "code",
   "execution_count": null,
   "metadata": {},
   "outputs": [],
   "source": [
    "# count the number of rows when you click on each url"
   ]
  },
  {
   "cell_type": "code",
   "execution_count": 6,
   "metadata": {},
   "outputs": [],
   "source": [
    "# Click the link that opens the new window\n",
    "\n",
    "# button = driver.find_element_by_tag_name('a').get_attribute('href')\n",
    "button = inspections_table.find_elements_by_link_text(\"13175960\")\n",
    "button[0].click()\n",
    "\n",
    "driver.switch_to.window(driver.window_handles[-1])\n"
   ]
  },
  {
   "cell_type": "code",
   "execution_count": 8,
   "metadata": {},
   "outputs": [
    {
     "data": {
      "text/plain": [
       "10"
      ]
     },
     "execution_count": 8,
     "metadata": {},
     "output_type": "execute_result"
    }
   ],
   "source": [
    "# scraping for number of violations\n",
    "get_table_body = driver.find_elements_by_tag_name('tbody')\n",
    "get_table_body_rows = get_table_body[0].find_elements_by_tag_name('tr')\n",
    "violation_num = len(get_table_body_rows)\n",
    "violation_num\n",
    "\n"
   ]
  },
  {
   "cell_type": "code",
   "execution_count": 9,
   "metadata": {},
   "outputs": [],
   "source": [
    "# Close the new window/tab\n",
    "driver.close()"
   ]
  },
  {
   "cell_type": "code",
   "execution_count": 15,
   "metadata": {},
   "outputs": [],
   "source": [
    "# Switch back to the original window/tab\n",
    "driver.switch_to.window(driver.window_handles[0])"
   ]
  },
  {
   "cell_type": "markdown",
   "metadata": {},
   "source": [
    "#### Getting all violation counts:"
   ]
  },
  {
   "cell_type": "code",
   "execution_count": 9,
   "metadata": {},
   "outputs": [
    {
     "data": {
      "text/plain": [
       "[{'Inspection_number': '13175960',\n",
       "  'URL': 'https://webapps1.chicago.gov/buildingrecords/inspectiondetails?addr=364923&insp=13175960',\n",
       "  'Inspection_date': '11/30/2020',\n",
       "  'Status': 'FAILED',\n",
       "  'Type_description': 'ANNUAL INSPECTION'},\n",
       " {'Inspection_number': '12770690',\n",
       "  'URL': 'https://webapps1.chicago.gov/buildingrecords/inspectiondetails?addr=364923&insp=12770690',\n",
       "  'Inspection_date': '05/30/2019',\n",
       "  'Status': 'PASSED',\n",
       "  'Type_description': 'BOILER ANNUAL INSPECTION'},\n",
       " {'Inspection_number': '12670542',\n",
       "  'URL': 'https://webapps1.chicago.gov/buildingrecords/inspectiondetails?addr=364923&insp=12670542',\n",
       "  'Inspection_date': '05/21/2019',\n",
       "  'Status': 'FAILED',\n",
       "  'Type_description': 'CONSERVATION ANNUAL'}]"
      ]
     },
     "execution_count": 9,
     "metadata": {},
     "output_type": "execute_result"
    }
   ],
   "source": [
    "inspections_list[:3]"
   ]
  },
  {
   "cell_type": "code",
   "execution_count": 13,
   "metadata": {},
   "outputs": [
    {
     "data": {
      "text/plain": [
       "'13175960 11/30/2020 FAILED ANNUAL INSPECTION'"
      ]
     },
     "execution_count": 13,
     "metadata": {},
     "output_type": "execute_result"
    }
   ],
   "source": [
    "inspections_table2[1].text.strip()"
   ]
  },
  {
   "cell_type": "code",
   "execution_count": 23,
   "metadata": {},
   "outputs": [
    {
     "data": {
      "text/plain": [
       "0"
      ]
     },
     "execution_count": 23,
     "metadata": {},
     "output_type": "execute_result"
    }
   ],
   "source": [
    "flag = driver.find_elements_by_tag_name('h5')\n",
    "len(flag)"
   ]
  },
  {
   "cell_type": "code",
   "execution_count": 29,
   "metadata": {},
   "outputs": [],
   "source": [
    "violations_list = []\n",
    "\n",
    "for dictionary in inspections_list:\n",
    "    if dictionary['Status'] == 'FAILED':\n",
    "        button = inspections_table.find_elements_by_link_text((f\"{dictionary['Inspection_number']}\"))\n",
    "        button[0].click()\n",
    "\n",
    "        driver.switch_to.window(driver.window_handles[-1])\n",
    "        \n",
    "        # at least one of the violations is marked \"FAILED\" but the page doesn't show any violations\n",
    "        flag = driver.find_elements_by_tag_name('h5')\n",
    "        \n",
    "        # if the page shows violations, flag will be an empty list\n",
    "        if len(flag) == 0:\n",
    "            get_table_body = driver.find_elements_by_tag_name('tbody')\n",
    "            get_table_body_rows = get_table_body[0].find_elements_by_tag_name('tr')\n",
    "            violation_num = len(get_table_body_rows)\n",
    "            violations_list.append(violation_num)\n",
    "        else:\n",
    "            violations_list.append(0)\n",
    "            \n",
    "        driver.close()\n",
    "\n",
    "        driver.switch_to.window(driver.window_handles[0])\n",
    "    else:\n",
    "        violations_list.append(0)"
   ]
  },
  {
   "cell_type": "code",
   "execution_count": 31,
   "metadata": {},
   "outputs": [],
   "source": [
    "df4['num_violations'] = violations_list"
   ]
  },
  {
   "cell_type": "code",
   "execution_count": 32,
   "metadata": {},
   "outputs": [
    {
     "data": {
      "text/html": [
       "<div>\n",
       "<style scoped>\n",
       "    .dataframe tbody tr th:only-of-type {\n",
       "        vertical-align: middle;\n",
       "    }\n",
       "\n",
       "    .dataframe tbody tr th {\n",
       "        vertical-align: top;\n",
       "    }\n",
       "\n",
       "    .dataframe thead th {\n",
       "        text-align: right;\n",
       "    }\n",
       "</style>\n",
       "<table border=\"1\" class=\"dataframe\">\n",
       "  <thead>\n",
       "    <tr style=\"text-align: right;\">\n",
       "      <th></th>\n",
       "      <th>Inspection_number</th>\n",
       "      <th>URL</th>\n",
       "      <th>Inspection_date</th>\n",
       "      <th>Status</th>\n",
       "      <th>Type_description</th>\n",
       "      <th>num_violations</th>\n",
       "    </tr>\n",
       "  </thead>\n",
       "  <tbody>\n",
       "    <tr>\n",
       "      <th>0</th>\n",
       "      <td>13175960</td>\n",
       "      <td>https://webapps1.chicago.gov/buildingrecords/i...</td>\n",
       "      <td>11/30/2020</td>\n",
       "      <td>FAILED</td>\n",
       "      <td>ANNUAL INSPECTION</td>\n",
       "      <td>10</td>\n",
       "    </tr>\n",
       "    <tr>\n",
       "      <th>1</th>\n",
       "      <td>12770690</td>\n",
       "      <td>https://webapps1.chicago.gov/buildingrecords/i...</td>\n",
       "      <td>05/30/2019</td>\n",
       "      <td>PASSED</td>\n",
       "      <td>BOILER ANNUAL INSPECTION</td>\n",
       "      <td>0</td>\n",
       "    </tr>\n",
       "    <tr>\n",
       "      <th>2</th>\n",
       "      <td>12670542</td>\n",
       "      <td>https://webapps1.chicago.gov/buildingrecords/i...</td>\n",
       "      <td>05/21/2019</td>\n",
       "      <td>FAILED</td>\n",
       "      <td>CONSERVATION ANNUAL</td>\n",
       "      <td>6</td>\n",
       "    </tr>\n",
       "    <tr>\n",
       "      <th>3</th>\n",
       "      <td>12277260</td>\n",
       "      <td>https://webapps1.chicago.gov/buildingrecords/i...</td>\n",
       "      <td>08/27/2018</td>\n",
       "      <td>FAILED</td>\n",
       "      <td>CONSERVATION ANNUAL</td>\n",
       "      <td>3</td>\n",
       "    </tr>\n",
       "    <tr>\n",
       "      <th>4</th>\n",
       "      <td>12418304</td>\n",
       "      <td>https://webapps1.chicago.gov/buildingrecords/i...</td>\n",
       "      <td>05/30/2018</td>\n",
       "      <td>PASSED</td>\n",
       "      <td>BOILER ANNUAL INSPECTION</td>\n",
       "      <td>0</td>\n",
       "    </tr>\n",
       "  </tbody>\n",
       "</table>\n",
       "</div>"
      ],
      "text/plain": [
       "   Inspection_number                                                URL  \\\n",
       "0           13175960  https://webapps1.chicago.gov/buildingrecords/i...   \n",
       "1           12770690  https://webapps1.chicago.gov/buildingrecords/i...   \n",
       "2           12670542  https://webapps1.chicago.gov/buildingrecords/i...   \n",
       "3           12277260  https://webapps1.chicago.gov/buildingrecords/i...   \n",
       "4           12418304  https://webapps1.chicago.gov/buildingrecords/i...   \n",
       "\n",
       "  Inspection_date  Status          Type_description  num_violations  \n",
       "0      11/30/2020  FAILED         ANNUAL INSPECTION              10  \n",
       "1      05/30/2019  PASSED  BOILER ANNUAL INSPECTION               0  \n",
       "2      05/21/2019  FAILED       CONSERVATION ANNUAL               6  \n",
       "3      08/27/2018  FAILED       CONSERVATION ANNUAL               3  \n",
       "4      05/30/2018  PASSED  BOILER ANNUAL INSPECTION               0  "
      ]
     },
     "execution_count": 32,
     "metadata": {},
     "output_type": "execute_result"
    }
   ],
   "source": [
    "df4.head()"
   ]
  },
  {
   "cell_type": "code",
   "execution_count": null,
   "metadata": {},
   "outputs": [],
   "source": []
  }
 ],
 "metadata": {
  "kernelspec": {
   "display_name": "Python 3",
   "language": "python",
   "name": "python3"
  },
  "language_info": {
   "codemirror_mode": {
    "name": "ipython",
    "version": 3
   },
   "file_extension": ".py",
   "mimetype": "text/x-python",
   "name": "python",
   "nbconvert_exporter": "python",
   "pygments_lexer": "ipython3",
   "version": "3.7.1"
  }
 },
 "nbformat": 4,
 "nbformat_minor": 4
}
